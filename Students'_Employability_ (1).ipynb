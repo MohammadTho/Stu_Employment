{
  "nbformat": 4,
  "nbformat_minor": 0,
  "metadata": {
    "colab": {
      "provenance": []
    },
    "kernelspec": {
      "name": "python3",
      "display_name": "Python 3"
    },
    "language_info": {
      "name": "python"
    }
  },
  "cells": [
    {
      "cell_type": "markdown",
      "source": [],
      "metadata": {
        "id": "pzpQGd4-v_K5"
      }
    },
    {
      "cell_type": "markdown",
      "source": [
        "##DATASET"
      ],
      "metadata": {
        "id": "W6NrjPx62zTt"
      }
    },
    {
      "cell_type": "markdown",
      "source": [
        "##Installing Kaggle API"
      ],
      "metadata": {
        "id": "3d0M-dAUwBcT"
      }
    },
    {
      "cell_type": "code",
      "source": [
        "!pip install kagglehub\n",
        "print(\"Kaggle API Installed\")"
      ],
      "metadata": {
        "colab": {
          "base_uri": "https://localhost:8080/"
        },
        "id": "SX-AOcqHwGWn",
        "outputId": "31556552-bf26-4bdf-e62f-0ae581ee1243"
      },
      "execution_count": 116,
      "outputs": [
        {
          "output_type": "stream",
          "name": "stdout",
          "text": [
            "Requirement already satisfied: kagglehub in /usr/local/lib/python3.11/dist-packages (0.3.6)\n",
            "Requirement already satisfied: packaging in /usr/local/lib/python3.11/dist-packages (from kagglehub) (24.2)\n",
            "Requirement already satisfied: requests in /usr/local/lib/python3.11/dist-packages (from kagglehub) (2.32.3)\n",
            "Requirement already satisfied: tqdm in /usr/local/lib/python3.11/dist-packages (from kagglehub) (4.67.1)\n",
            "Requirement already satisfied: charset-normalizer<4,>=2 in /usr/local/lib/python3.11/dist-packages (from requests->kagglehub) (3.4.1)\n",
            "Requirement already satisfied: idna<4,>=2.5 in /usr/local/lib/python3.11/dist-packages (from requests->kagglehub) (3.10)\n",
            "Requirement already satisfied: urllib3<3,>=1.21.1 in /usr/local/lib/python3.11/dist-packages (from requests->kagglehub) (2.3.0)\n",
            "Requirement already satisfied: certifi>=2017.4.17 in /usr/local/lib/python3.11/dist-packages (from requests->kagglehub) (2024.12.14)\n",
            "Kaggle API Installed\n"
          ]
        }
      ]
    },
    {
      "cell_type": "code",
      "source": [
        "from google.colab import files\n",
        "files.upload()\n",
        "# This will prompt you to upload your kaggle.json file\n",
        "\n",
        "#Move the key to the correct location\n",
        "!mkdir ~/.kaggle\n",
        "!mv kaggle.json ~/.kaggle/\n",
        "!chmod 600 ~/.kaggle/kaggle.json\n"
      ],
      "metadata": {
        "colab": {
          "base_uri": "https://localhost:8080/",
          "height": 91
        },
        "id": "NGajjN3ewlmS",
        "outputId": "3cd20412-7449-494b-d016-cac77317a95d"
      },
      "execution_count": 117,
      "outputs": [
        {
          "output_type": "display_data",
          "data": {
            "text/plain": [
              "<IPython.core.display.HTML object>"
            ],
            "text/html": [
              "\n",
              "     <input type=\"file\" id=\"files-9bbd2e10-ecdd-496e-af8f-e4ecba643b08\" name=\"files[]\" multiple disabled\n",
              "        style=\"border:none\" />\n",
              "     <output id=\"result-9bbd2e10-ecdd-496e-af8f-e4ecba643b08\">\n",
              "      Upload widget is only available when the cell has been executed in the\n",
              "      current browser session. Please rerun this cell to enable.\n",
              "      </output>\n",
              "      <script>// Copyright 2017 Google LLC\n",
              "//\n",
              "// Licensed under the Apache License, Version 2.0 (the \"License\");\n",
              "// you may not use this file except in compliance with the License.\n",
              "// You may obtain a copy of the License at\n",
              "//\n",
              "//      http://www.apache.org/licenses/LICENSE-2.0\n",
              "//\n",
              "// Unless required by applicable law or agreed to in writing, software\n",
              "// distributed under the License is distributed on an \"AS IS\" BASIS,\n",
              "// WITHOUT WARRANTIES OR CONDITIONS OF ANY KIND, either express or implied.\n",
              "// See the License for the specific language governing permissions and\n",
              "// limitations under the License.\n",
              "\n",
              "/**\n",
              " * @fileoverview Helpers for google.colab Python module.\n",
              " */\n",
              "(function(scope) {\n",
              "function span(text, styleAttributes = {}) {\n",
              "  const element = document.createElement('span');\n",
              "  element.textContent = text;\n",
              "  for (const key of Object.keys(styleAttributes)) {\n",
              "    element.style[key] = styleAttributes[key];\n",
              "  }\n",
              "  return element;\n",
              "}\n",
              "\n",
              "// Max number of bytes which will be uploaded at a time.\n",
              "const MAX_PAYLOAD_SIZE = 100 * 1024;\n",
              "\n",
              "function _uploadFiles(inputId, outputId) {\n",
              "  const steps = uploadFilesStep(inputId, outputId);\n",
              "  const outputElement = document.getElementById(outputId);\n",
              "  // Cache steps on the outputElement to make it available for the next call\n",
              "  // to uploadFilesContinue from Python.\n",
              "  outputElement.steps = steps;\n",
              "\n",
              "  return _uploadFilesContinue(outputId);\n",
              "}\n",
              "\n",
              "// This is roughly an async generator (not supported in the browser yet),\n",
              "// where there are multiple asynchronous steps and the Python side is going\n",
              "// to poll for completion of each step.\n",
              "// This uses a Promise to block the python side on completion of each step,\n",
              "// then passes the result of the previous step as the input to the next step.\n",
              "function _uploadFilesContinue(outputId) {\n",
              "  const outputElement = document.getElementById(outputId);\n",
              "  const steps = outputElement.steps;\n",
              "\n",
              "  const next = steps.next(outputElement.lastPromiseValue);\n",
              "  return Promise.resolve(next.value.promise).then((value) => {\n",
              "    // Cache the last promise value to make it available to the next\n",
              "    // step of the generator.\n",
              "    outputElement.lastPromiseValue = value;\n",
              "    return next.value.response;\n",
              "  });\n",
              "}\n",
              "\n",
              "/**\n",
              " * Generator function which is called between each async step of the upload\n",
              " * process.\n",
              " * @param {string} inputId Element ID of the input file picker element.\n",
              " * @param {string} outputId Element ID of the output display.\n",
              " * @return {!Iterable<!Object>} Iterable of next steps.\n",
              " */\n",
              "function* uploadFilesStep(inputId, outputId) {\n",
              "  const inputElement = document.getElementById(inputId);\n",
              "  inputElement.disabled = false;\n",
              "\n",
              "  const outputElement = document.getElementById(outputId);\n",
              "  outputElement.innerHTML = '';\n",
              "\n",
              "  const pickedPromise = new Promise((resolve) => {\n",
              "    inputElement.addEventListener('change', (e) => {\n",
              "      resolve(e.target.files);\n",
              "    });\n",
              "  });\n",
              "\n",
              "  const cancel = document.createElement('button');\n",
              "  inputElement.parentElement.appendChild(cancel);\n",
              "  cancel.textContent = 'Cancel upload';\n",
              "  const cancelPromise = new Promise((resolve) => {\n",
              "    cancel.onclick = () => {\n",
              "      resolve(null);\n",
              "    };\n",
              "  });\n",
              "\n",
              "  // Wait for the user to pick the files.\n",
              "  const files = yield {\n",
              "    promise: Promise.race([pickedPromise, cancelPromise]),\n",
              "    response: {\n",
              "      action: 'starting',\n",
              "    }\n",
              "  };\n",
              "\n",
              "  cancel.remove();\n",
              "\n",
              "  // Disable the input element since further picks are not allowed.\n",
              "  inputElement.disabled = true;\n",
              "\n",
              "  if (!files) {\n",
              "    return {\n",
              "      response: {\n",
              "        action: 'complete',\n",
              "      }\n",
              "    };\n",
              "  }\n",
              "\n",
              "  for (const file of files) {\n",
              "    const li = document.createElement('li');\n",
              "    li.append(span(file.name, {fontWeight: 'bold'}));\n",
              "    li.append(span(\n",
              "        `(${file.type || 'n/a'}) - ${file.size} bytes, ` +\n",
              "        `last modified: ${\n",
              "            file.lastModifiedDate ? file.lastModifiedDate.toLocaleDateString() :\n",
              "                                    'n/a'} - `));\n",
              "    const percent = span('0% done');\n",
              "    li.appendChild(percent);\n",
              "\n",
              "    outputElement.appendChild(li);\n",
              "\n",
              "    const fileDataPromise = new Promise((resolve) => {\n",
              "      const reader = new FileReader();\n",
              "      reader.onload = (e) => {\n",
              "        resolve(e.target.result);\n",
              "      };\n",
              "      reader.readAsArrayBuffer(file);\n",
              "    });\n",
              "    // Wait for the data to be ready.\n",
              "    let fileData = yield {\n",
              "      promise: fileDataPromise,\n",
              "      response: {\n",
              "        action: 'continue',\n",
              "      }\n",
              "    };\n",
              "\n",
              "    // Use a chunked sending to avoid message size limits. See b/62115660.\n",
              "    let position = 0;\n",
              "    do {\n",
              "      const length = Math.min(fileData.byteLength - position, MAX_PAYLOAD_SIZE);\n",
              "      const chunk = new Uint8Array(fileData, position, length);\n",
              "      position += length;\n",
              "\n",
              "      const base64 = btoa(String.fromCharCode.apply(null, chunk));\n",
              "      yield {\n",
              "        response: {\n",
              "          action: 'append',\n",
              "          file: file.name,\n",
              "          data: base64,\n",
              "        },\n",
              "      };\n",
              "\n",
              "      let percentDone = fileData.byteLength === 0 ?\n",
              "          100 :\n",
              "          Math.round((position / fileData.byteLength) * 100);\n",
              "      percent.textContent = `${percentDone}% done`;\n",
              "\n",
              "    } while (position < fileData.byteLength);\n",
              "  }\n",
              "\n",
              "  // All done.\n",
              "  yield {\n",
              "    response: {\n",
              "      action: 'complete',\n",
              "    }\n",
              "  };\n",
              "}\n",
              "\n",
              "scope.google = scope.google || {};\n",
              "scope.google.colab = scope.google.colab || {};\n",
              "scope.google.colab._files = {\n",
              "  _uploadFiles,\n",
              "  _uploadFilesContinue,\n",
              "};\n",
              "})(self);\n",
              "</script> "
            ]
          },
          "metadata": {}
        },
        {
          "output_type": "stream",
          "name": "stdout",
          "text": [
            "Saving kaggle.json to kaggle.json\n",
            "mkdir: cannot create directory ‘/root/.kaggle’: File exists\n"
          ]
        }
      ]
    },
    {
      "cell_type": "code",
      "source": [
        "import kagglehub\n",
        "\n",
        "# Download the latest version of the dataset\n",
        "path = kagglehub.dataset_download(\"anashamoutni/students-employability-dataset\")\n",
        "\n",
        "print(\"Path to dataset files:\", path)"
      ],
      "metadata": {
        "colab": {
          "base_uri": "https://localhost:8080/"
        },
        "id": "D5797gg0wmgY",
        "outputId": "6cd895b8-69c4-4305-86c6-e6d15a3d73bc"
      },
      "execution_count": 118,
      "outputs": [
        {
          "output_type": "stream",
          "name": "stdout",
          "text": [
            "Path to dataset files: /root/.cache/kagglehub/datasets/anashamoutni/students-employability-dataset/versions/1\n"
          ]
        }
      ]
    },
    {
      "cell_type": "code",
      "source": [
        "#Verify the download\n",
        "import os\n",
        "\n",
        "# List all files in the dataset folder\n",
        "print(os.listdir(path))\n"
      ],
      "metadata": {
        "colab": {
          "base_uri": "https://localhost:8080/"
        },
        "id": "1h0gHoK4wugP",
        "outputId": "0af62dab-9458-44e5-d9b9-184951c52251"
      },
      "execution_count": 119,
      "outputs": [
        {
          "output_type": "stream",
          "name": "stdout",
          "text": [
            "['Student-Employability-Datasets.xlsx']\n"
          ]
        }
      ]
    },
    {
      "cell_type": "markdown",
      "source": [
        "##Load the Dataset\n",
        "\n"
      ],
      "metadata": {
        "id": "vXz7o8s6xvVP"
      }
    },
    {
      "cell_type": "code",
      "source": [
        "import pandas as pd\n",
        "import os\n",
        "\n",
        "# Full path to the Excel file\n",
        "excel_file = os.path.join(path, 'Student-Employability-Datasets.xlsx')\n",
        "\n",
        "# Load the Excel file\n",
        "data = pd.read_excel(excel_file)\n",
        "\n",
        "# Preview the data\n",
        "print(data.head())\n",
        "print(data.info())"
      ],
      "metadata": {
        "colab": {
          "base_uri": "https://localhost:8080/"
        },
        "id": "QIe63N_Wy9I6",
        "outputId": "6659b260-287b-4a8b-8ff4-f3110e93f066"
      },
      "execution_count": 120,
      "outputs": [
        {
          "output_type": "stream",
          "name": "stdout",
          "text": [
            "  Name of Student  GENERAL APPEARANCE  MANNER OF SPEAKING  PHYSICAL CONDITION  \\\n",
            "0       Student 1                   4                   5                   4   \n",
            "1       Student 2                   4                   4                   4   \n",
            "2       Student 3                   4                   3                   3   \n",
            "3       Student 4                   3                   3                   3   \n",
            "4       Student 5                   4                   4                   3   \n",
            "\n",
            "   MENTAL ALERTNESS  SELF-CONFIDENCE  ABILITY TO PRESENT IDEAS  \\\n",
            "0                 5                5                         5   \n",
            "1                 4                4                         4   \n",
            "2                 3                3                         3   \n",
            "3                 2                3                         3   \n",
            "4                 3                4                         4   \n",
            "\n",
            "   COMMUNICATION SKILLS  Student Performance Rating           CLASS  \n",
            "0                     5                           5      Employable  \n",
            "1                     3                           5      Employable  \n",
            "2                     2                           5  LessEmployable  \n",
            "3                     3                           5  LessEmployable  \n",
            "4                     3                           5      Employable  \n",
            "<class 'pandas.core.frame.DataFrame'>\n",
            "RangeIndex: 2982 entries, 0 to 2981\n",
            "Data columns (total 10 columns):\n",
            " #   Column                      Non-Null Count  Dtype \n",
            "---  ------                      --------------  ----- \n",
            " 0   Name of Student             2982 non-null   object\n",
            " 1   GENERAL APPEARANCE          2982 non-null   int64 \n",
            " 2   MANNER OF SPEAKING          2982 non-null   int64 \n",
            " 3   PHYSICAL CONDITION          2982 non-null   int64 \n",
            " 4   MENTAL ALERTNESS            2982 non-null   int64 \n",
            " 5   SELF-CONFIDENCE             2982 non-null   int64 \n",
            " 6   ABILITY TO PRESENT IDEAS    2982 non-null   int64 \n",
            " 7   COMMUNICATION SKILLS        2982 non-null   int64 \n",
            " 8   Student Performance Rating  2982 non-null   int64 \n",
            " 9   CLASS                       2982 non-null   object\n",
            "dtypes: int64(8), object(2)\n",
            "memory usage: 233.1+ KB\n",
            "None\n"
          ]
        }
      ]
    },
    {
      "cell_type": "markdown",
      "source": [
        "##Phase 1 - DATA PROCESSING"
      ],
      "metadata": {
        "id": "AsfaqbYI3CQ_"
      }
    },
    {
      "cell_type": "markdown",
      "source": [
        "##Clean and Normalize the dataset"
      ],
      "metadata": {
        "id": "7nCMU8Ab1FJc"
      }
    },
    {
      "cell_type": "code",
      "source": [
        "from sklearn.preprocessing import MinMaxScaler, LabelEncoder\n",
        "\n",
        "# Drop the \"Name of Student\" column\n",
        "data_cleaned = data.drop(columns=[\"Name of Student\"])\n",
        "\n",
        "# Normalize numeric columns (Min-Max Scaling)\n",
        "scaler = MinMaxScaler()\n",
        "numeric_columns = [\n",
        "    \"GENERAL APPEARANCE\", \"MANNER OF SPEAKING\", \"PHYSICAL CONDITION\",\n",
        "    \"MENTAL ALERTNESS\", \"SELF-CONFIDENCE\", \"ABILITY TO PRESENT IDEAS\",\n",
        "    \"COMMUNICATION SKILLS\", \"Student Performance Rating\"\n",
        "]\n",
        "# Create the 'COMMUNICATION_SKILLS_TOTAL' interaction term\n",
        "data_cleaned['COMMUNICATION_SKILLS_TOTAL'] = (\n",
        "    data_cleaned['COMMUNICATION SKILLS'] + data_cleaned['ABILITY TO PRESENT IDEAS']\n",
        ")\n",
        "# Create the 'CONFIDENCE_ALERTNESS' interaction term\n",
        "data_cleaned['CONFIDENCE_ALERTNESS'] = (\n",
        "    data_cleaned['SELF-CONFIDENCE'] * data_cleaned['MENTAL ALERTNESS']\n",
        ")\n",
        "\n",
        "\n",
        "data_cleaned[numeric_columns] = scaler.fit_transform(data_cleaned[numeric_columns])\n",
        "\n",
        "# Encode the \"CLASS\" column\n",
        "le = LabelEncoder()\n",
        "data_cleaned[\"CLASS\"] = le.fit_transform(data_cleaned[\"CLASS\"])\n",
        "\n",
        "# Preview the cleaned dataset\n",
        "print(data_cleaned.head())\n"
      ],
      "metadata": {
        "colab": {
          "base_uri": "https://localhost:8080/"
        },
        "id": "LJZeDSQ51N79",
        "outputId": "33883bf1-89d2-43c6-9f93-a28020e6873a"
      },
      "execution_count": 121,
      "outputs": [
        {
          "output_type": "stream",
          "name": "stdout",
          "text": [
            "   GENERAL APPEARANCE  MANNER OF SPEAKING  PHYSICAL CONDITION  \\\n",
            "0            0.666667            1.000000            0.666667   \n",
            "1            0.666667            0.666667            0.666667   \n",
            "2            0.666667            0.333333            0.333333   \n",
            "3            0.333333            0.333333            0.333333   \n",
            "4            0.666667            0.666667            0.333333   \n",
            "\n",
            "   MENTAL ALERTNESS  SELF-CONFIDENCE  ABILITY TO PRESENT IDEAS  \\\n",
            "0          1.000000         1.000000                  1.000000   \n",
            "1          0.666667         0.666667                  0.666667   \n",
            "2          0.333333         0.333333                  0.333333   \n",
            "3          0.000000         0.333333                  0.333333   \n",
            "4          0.333333         0.666667                  0.666667   \n",
            "\n",
            "   COMMUNICATION SKILLS  Student Performance Rating  CLASS  \\\n",
            "0              1.000000                         1.0      0   \n",
            "1              0.333333                         1.0      0   \n",
            "2              0.000000                         1.0      1   \n",
            "3              0.333333                         1.0      1   \n",
            "4              0.333333                         1.0      0   \n",
            "\n",
            "   COMMUNICATION_SKILLS_TOTAL  CONFIDENCE_ALERTNESS  \n",
            "0                          10                    25  \n",
            "1                           7                    16  \n",
            "2                           5                     9  \n",
            "3                           6                     6  \n",
            "4                           7                    12  \n"
          ]
        }
      ]
    },
    {
      "cell_type": "markdown",
      "source": [
        "##Phase 2 – Feature Engineering\n"
      ],
      "metadata": {
        "id": "BtMRFeJ33Ko8"
      }
    },
    {
      "cell_type": "markdown",
      "source": [
        "##Check Feature Correlation"
      ],
      "metadata": {
        "id": "K01py32b3P_U"
      }
    },
    {
      "cell_type": "code",
      "source": [
        "import seaborn as sns\n",
        "import matplotlib.pyplot as plt\n",
        "\n",
        "# Compute correlation matrix\n",
        "correlation_matrix = data_cleaned.corr()\n",
        "\n",
        "# Plot heatmap\n",
        "plt.figure(figsize=(10, 8))\n",
        "sns.heatmap(correlation_matrix, annot=True, cmap='coolwarm')\n",
        "plt.title(\"Feature Correlation Heatmap\")\n",
        "plt.show()\n",
        "\n",
        "##Red/orange: Positive correlation.\n",
        "##Blue: Negative correlation.\n",
        "##White/gray: Near zero (no correlation)."
      ],
      "metadata": {
        "colab": {
          "base_uri": "https://localhost:8080/",
          "height": 910
        },
        "id": "QWgBJQE63MPI",
        "outputId": "c77d3822-3060-45e6-8904-858aa4c520b2"
      },
      "execution_count": 122,
      "outputs": [
        {
          "output_type": "display_data",
          "data": {
            "text/plain": [
              "<Figure size 1000x800 with 2 Axes>"
            ],
            "image/png": "[encoded data removed]"
          },
          "metadata": {}
        }
      ]
    },
    {
      "cell_type": "markdown",
      "source": [
        "##Aggregated Features"
      ],
      "metadata": {
        "id": "iSDo6c9F3-ig"
      }
    },
    {
      "cell_type": "code",
      "source": [
        "# Example: Create a total \"communication-related skills\" feature\n",
        "data_cleaned['COMMUNICATION_SKILLS_TOTAL'] = (\n",
        "    data_cleaned['COMMUNICATION SKILLS'] + data_cleaned['ABILITY TO PRESENT IDEAS']\n",
        ")\n",
        "# Printing feature\n",
        "print(\"Aggregate Feature: COMMUNICATION_SKILLS_TOTAL\")\n",
        "print(data_cleaned[['COMMUNICATION SKILLS', 'ABILITY TO PRESENT IDEAS', 'COMMUNICATION_SKILLS_TOTAL']].head())"
      ],
      "metadata": {
        "colab": {
          "base_uri": "https://localhost:8080/"
        },
        "id": "I875949I4BSD",
        "outputId": "8a430c13-dd2b-4bfc-a4dc-e2cd9509db6f"
      },
      "execution_count": 123,
      "outputs": [
        {
          "output_type": "stream",
          "name": "stdout",
          "text": [
            "Aggregate Feature: COMMUNICATION_SKILLS_TOTAL\n",
            "   COMMUNICATION SKILLS  ABILITY TO PRESENT IDEAS  COMMUNICATION_SKILLS_TOTAL\n",
            "0              1.000000                  1.000000                    2.000000\n",
            "1              0.333333                  0.666667                    1.000000\n",
            "2              0.000000                  0.333333                    0.333333\n",
            "3              0.333333                  0.333333                    0.666667\n",
            "4              0.333333                  0.666667                    1.000000\n"
          ]
        }
      ]
    },
    {
      "cell_type": "markdown",
      "source": [
        "##Interaction Terms"
      ],
      "metadata": {
        "id": "_9NVDvtt4Dwg"
      }
    },
    {
      "cell_type": "code",
      "source": [
        "# Example: Interaction between self-confidence and mental alertness\n",
        "data_cleaned['CONFIDENCE_ALERTNESS'] = (\n",
        "    data_cleaned['SELF-CONFIDENCE'] * data_cleaned['MENTAL ALERTNESS']\n",
        ")\n",
        "\n",
        "# Print the updated dataset with the interaction feature\n",
        "print(\"Interaction Feature: CONFIDENCE_ALERTNESS\")\n",
        "print(data_cleaned[['SELF-CONFIDENCE', 'MENTAL ALERTNESS', 'CONFIDENCE_ALERTNESS']].head())"
      ],
      "metadata": {
        "colab": {
          "base_uri": "https://localhost:8080/"
        },
        "id": "KHu0b2lw4HA3",
        "outputId": "62cf9e6d-5aa0-484d-ff65-37a9f8b2c3cc"
      },
      "execution_count": 124,
      "outputs": [
        {
          "output_type": "stream",
          "name": "stdout",
          "text": [
            "Interaction Feature: CONFIDENCE_ALERTNESS\n",
            "   SELF-CONFIDENCE  MENTAL ALERTNESS  CONFIDENCE_ALERTNESS\n",
            "0         1.000000          1.000000              1.000000\n",
            "1         0.666667          0.666667              0.444444\n",
            "2         0.333333          0.333333              0.111111\n",
            "3         0.333333          0.000000              0.000000\n",
            "4         0.666667          0.333333              0.222222\n"
          ]
        }
      ]
    },
    {
      "cell_type": "markdown",
      "source": [
        "##Polynomial Features"
      ],
      "metadata": {
        "id": "L4QQvUSI4KNT"
      }
    },
    {
      "cell_type": "code",
      "source": [
        "from sklearn.preprocessing import PolynomialFeatures\n",
        "\n",
        "# Create polynomial features (degree=2)\n",
        "poly = PolynomialFeatures(degree=2, include_bias=False)\n",
        "poly_features = poly.fit_transform(data_cleaned[numeric_columns])\n",
        "\n",
        "# Convert to DataFrame with appropriate column names\n",
        "poly_df = pd.DataFrame(poly_features, columns=poly.get_feature_names_out(numeric_columns))\n",
        "\n",
        "# Print the first 5 rows of polynomial features\n",
        "print(\"Polynomial Features (Degree 2):\")\n",
        "print(poly_df.head())\n",
        "\n",
        "# Optionally, add polynomial features back to the original dataset\n",
        "data_cleaned = pd.concat([data_cleaned, poly_df], axis=1)\n"
      ],
      "metadata": {
        "colab": {
          "base_uri": "https://localhost:8080/"
        },
        "id": "YJZ6kWKe4Km3",
        "outputId": "9bd5387a-529d-4c9c-f709-da097c6ab796"
      },
      "execution_count": 125,
      "outputs": [
        {
          "output_type": "stream",
          "name": "stdout",
          "text": [
            "Polynomial Features (Degree 2):\n",
            "   GENERAL APPEARANCE  MANNER OF SPEAKING  PHYSICAL CONDITION  \\\n",
            "0            0.666667            1.000000            0.666667   \n",
            "1            0.666667            0.666667            0.666667   \n",
            "2            0.666667            0.333333            0.333333   \n",
            "3            0.333333            0.333333            0.333333   \n",
            "4            0.666667            0.666667            0.333333   \n",
            "\n",
            "   MENTAL ALERTNESS  SELF-CONFIDENCE  ABILITY TO PRESENT IDEAS  \\\n",
            "0          1.000000         1.000000                  1.000000   \n",
            "1          0.666667         0.666667                  0.666667   \n",
            "2          0.333333         0.333333                  0.333333   \n",
            "3          0.000000         0.333333                  0.333333   \n",
            "4          0.333333         0.666667                  0.666667   \n",
            "\n",
            "   COMMUNICATION SKILLS  Student Performance Rating  GENERAL APPEARANCE^2  \\\n",
            "0              1.000000                         1.0              0.444444   \n",
            "1              0.333333                         1.0              0.444444   \n",
            "2              0.000000                         1.0              0.444444   \n",
            "3              0.333333                         1.0              0.111111   \n",
            "4              0.333333                         1.0              0.444444   \n",
            "\n",
            "   GENERAL APPEARANCE MANNER OF SPEAKING  ...  SELF-CONFIDENCE^2  \\\n",
            "0                               0.666667  ...           1.000000   \n",
            "1                               0.444444  ...           0.444444   \n",
            "2                               0.222222  ...           0.111111   \n",
            "3                               0.111111  ...           0.111111   \n",
            "4                               0.444444  ...           0.444444   \n",
            "\n",
            "   SELF-CONFIDENCE ABILITY TO PRESENT IDEAS  \\\n",
            "0                                  1.000000   \n",
            "1                                  0.444444   \n",
            "2                                  0.111111   \n",
            "3                                  0.111111   \n",
            "4                                  0.444444   \n",
            "\n",
            "   SELF-CONFIDENCE COMMUNICATION SKILLS  \\\n",
            "0                              1.000000   \n",
            "1                              0.222222   \n",
            "2                              0.000000   \n",
            "3                              0.111111   \n",
            "4                              0.222222   \n",
            "\n",
            "   SELF-CONFIDENCE Student Performance Rating  ABILITY TO PRESENT IDEAS^2  \\\n",
            "0                                    1.000000                    1.000000   \n",
            "1                                    0.666667                    0.444444   \n",
            "2                                    0.333333                    0.111111   \n",
            "3                                    0.333333                    0.111111   \n",
            "4                                    0.666667                    0.444444   \n",
            "\n",
            "   ABILITY TO PRESENT IDEAS COMMUNICATION SKILLS  \\\n",
            "0                                       1.000000   \n",
            "1                                       0.222222   \n",
            "2                                       0.000000   \n",
            "3                                       0.111111   \n",
            "4                                       0.222222   \n",
            "\n",
            "   ABILITY TO PRESENT IDEAS Student Performance Rating  \\\n",
            "0                                           1.000000     \n",
            "1                                           0.666667     \n",
            "2                                           0.333333     \n",
            "3                                           0.333333     \n",
            "4                                           0.666667     \n",
            "\n",
            "   COMMUNICATION SKILLS^2  COMMUNICATION SKILLS Student Performance Rating  \\\n",
            "0                1.000000                                         1.000000   \n",
            "1                0.111111                                         0.333333   \n",
            "2                0.000000                                         0.000000   \n",
            "3                0.111111                                         0.333333   \n",
            "4                0.111111                                         0.333333   \n",
            "\n",
            "   Student Performance Rating^2  \n",
            "0                           1.0  \n",
            "1                           1.0  \n",
            "2                           1.0  \n",
            "3                           1.0  \n",
            "4                           1.0  \n",
            "\n",
            "[5 rows x 44 columns]\n"
          ]
        }
      ]
    },
    {
      "cell_type": "code",
      "source": [
        "from sklearn.feature_selection import SelectKBest, f_classif\n",
        "\n",
        "# Select top 5 features based on ANOVA F-statistic\n",
        "X = data_cleaned.drop(columns=['CLASS'])\n",
        "y = data_cleaned['CLASS']\n",
        "selector = SelectKBest(score_func=f_classif, k=5)\n",
        "X_new = selector.fit_transform(X, y)\n",
        "\n",
        "# Get selected feature names\n",
        "selected_features = X.columns[selector.get_support()]\n",
        "print(\"Selected Features:\", selected_features)\n",
        "\n",
        "# Update DataFrame with only selected features\n",
        "data_cleaned = data_cleaned[selected_features.tolist() + ['CLASS']]\n",
        "\n"
      ],
      "metadata": {
        "colab": {
          "base_uri": "https://localhost:8080/"
        },
        "id": "bsEioPrE41PE",
        "outputId": "ba11df33-9262-4cc8-efe1-5e40f8eac18e"
      },
      "execution_count": 126,
      "outputs": [
        {
          "output_type": "stream",
          "name": "stdout",
          "text": [
            "Selected Features: Index(['GENERAL APPEARANCE MENTAL ALERTNESS',\n",
            "       'MANNER OF SPEAKING PHYSICAL CONDITION',\n",
            "       'MANNER OF SPEAKING MENTAL ALERTNESS',\n",
            "       'PHYSICAL CONDITION MENTAL ALERTNESS', 'MENTAL ALERTNESS^2'],\n",
            "      dtype='object')\n"
          ]
        }
      ]
    },
    {
      "cell_type": "code",
      "source": [
        "# Printing features\n",
        "print(data_cleaned.info())\n",
        "print(data_cleaned.head())"
      ],
      "metadata": {
        "colab": {
          "base_uri": "https://localhost:8080/"
        },
        "id": "ZLdkDj-54v9e",
        "outputId": "2014c20c-efdd-4636-8363-239eb013d99f"
      },
      "execution_count": 127,
      "outputs": [
        {
          "output_type": "stream",
          "name": "stdout",
          "text": [
            "<class 'pandas.core.frame.DataFrame'>\n",
            "RangeIndex: 2982 entries, 0 to 2981\n",
            "Data columns (total 6 columns):\n",
            " #   Column                                 Non-Null Count  Dtype  \n",
            "---  ------                                 --------------  -----  \n",
            " 0   GENERAL APPEARANCE MENTAL ALERTNESS    2982 non-null   float64\n",
            " 1   MANNER OF SPEAKING PHYSICAL CONDITION  2982 non-null   float64\n",
            " 2   MANNER OF SPEAKING MENTAL ALERTNESS    2982 non-null   float64\n",
            " 3   PHYSICAL CONDITION MENTAL ALERTNESS    2982 non-null   float64\n",
            " 4   MENTAL ALERTNESS^2                     2982 non-null   float64\n",
            " 5   CLASS                                  2982 non-null   int64  \n",
            "dtypes: float64(5), int64(1)\n",
            "memory usage: 139.9 KB\n",
            "None\n",
            "   GENERAL APPEARANCE MENTAL ALERTNESS  MANNER OF SPEAKING PHYSICAL CONDITION  \\\n",
            "0                             0.666667                               0.666667   \n",
            "1                             0.444444                               0.444444   \n",
            "2                             0.222222                               0.111111   \n",
            "3                             0.000000                               0.111111   \n",
            "4                             0.222222                               0.222222   \n",
            "\n",
            "   MANNER OF SPEAKING MENTAL ALERTNESS  PHYSICAL CONDITION MENTAL ALERTNESS  \\\n",
            "0                             1.000000                             0.666667   \n",
            "1                             0.444444                             0.444444   \n",
            "2                             0.111111                             0.111111   \n",
            "3                             0.000000                             0.000000   \n",
            "4                             0.222222                             0.111111   \n",
            "\n",
            "   MENTAL ALERTNESS^2  CLASS  \n",
            "0            1.000000      0  \n",
            "1            0.444444      0  \n",
            "2            0.111111      1  \n",
            "3            0.000000      1  \n",
            "4            0.111111      0  \n"
          ]
        }
      ]
    },
    {
      "cell_type": "markdown",
      "source": [
        "##Phase 3 – Data Analysis and Visualization"
      ],
      "metadata": {
        "id": "wLoAOd786apP"
      }
    },
    {
      "cell_type": "code",
      "source": [
        "print(data.columns)"
      ],
      "metadata": {
        "colab": {
          "base_uri": "https://localhost:8080/"
        },
        "id": "piapiBgC9ZaB",
        "outputId": "384b6e49-1c07-499d-ca04-1b9eeb1c0303"
      },
      "execution_count": 128,
      "outputs": [
        {
          "output_type": "stream",
          "name": "stdout",
          "text": [
            "Index(['Name of Student', 'GENERAL APPEARANCE', 'MANNER OF SPEAKING',\n",
            "       'PHYSICAL CONDITION', 'MENTAL ALERTNESS', 'SELF-CONFIDENCE',\n",
            "       'ABILITY TO PRESENT IDEAS', 'COMMUNICATION SKILLS',\n",
            "       'Student Performance Rating', 'CLASS'],\n",
            "      dtype='object')\n"
          ]
        }
      ]
    },
    {
      "cell_type": "code",
      "source": [
        "# Distribution plots for key features\n",
        "plt.figure(figsize=(12, 6))\n",
        "sns.histplot(data_cleaned['COMMUNICATION_SKILLS_TOTAL'], kde=True, color='blue', bins=30)\n",
        "plt.title(\"Distribution of Communication Skills Total\")\n",
        "plt.show()\n",
        "\n",
        "sns.histplot(data_cleaned['CONFIDENCE_ALERTNESS'], kde=True, color='green', bins=30)\n",
        "plt.title(\"Distribution of Confidence and Alertness Interaction\")\n",
        "plt.show()"
      ],
      "metadata": {
        "colab": {
          "base_uri": "https://localhost:8080/",
          "height": 564
        },
        "id": "zdvG9RD4Zh4f",
        "outputId": "23f2b1d7-f1a5-4ddd-a5cf-1f826ea4b1e8"
      },
      "execution_count": 130,
      "outputs": [
        {
          "output_type": "error",
          "ename": "KeyError",
          "evalue": "'COMMUNICATION_SKILLS_TOTAL'",
          "traceback": [
            "\u001b[0;31m---------------------------------------------------------------------------\u001b[0m",
            "\u001b[0;31mKeyError\u001b[0m                                  Traceback (most recent call last)",
            "\u001b[0;32m/usr/local/lib/python3.11/dist-packages/pandas/core/indexes/base.py\u001b[0m in \u001b[0;36mget_loc\u001b[0;34m(self, key)\u001b[0m\n\u001b[1;32m   3804\u001b[0m         \u001b[0;32mtry\u001b[0m\u001b[0;34m:\u001b[0m\u001b[0;34m\u001b[0m\u001b[0;34m\u001b[0m\u001b[0m\n\u001b[0;32m-> 3805\u001b[0;31m             \u001b[0;32mreturn\u001b[0m \u001b[0mself\u001b[0m\u001b[0;34m.\u001b[0m\u001b[0m_engine\u001b[0m\u001b[0;34m.\u001b[0m\u001b[0mget_loc\u001b[0m\u001b[0;34m(\u001b[0m\u001b[0mcasted_key\u001b[0m\u001b[0;34m)\u001b[0m\u001b[0;34m\u001b[0m\u001b[0;34m\u001b[0m\u001b[0m\n\u001b[0m\u001b[1;32m   3806\u001b[0m         \u001b[0;32mexcept\u001b[0m \u001b[0mKeyError\u001b[0m \u001b[0;32mas\u001b[0m \u001b[0merr\u001b[0m\u001b[0;34m:\u001b[0m\u001b[0;34m\u001b[0m\u001b[0;34m\u001b[0m\u001b[0m\n",
            "\u001b[0;32mindex.pyx\u001b[0m in \u001b[0;36mpandas._libs.index.IndexEngine.get_loc\u001b[0;34m()\u001b[0m\n",
            "\u001b[0;32mindex.pyx\u001b[0m in \u001b[0;36mpandas._libs.index.IndexEngine.get_loc\u001b[0;34m()\u001b[0m\n",
            "\u001b[0;32mpandas/_libs/hashtable_class_helper.pxi\u001b[0m in \u001b[0;36mpandas._libs.hashtable.PyObjectHashTable.get_item\u001b[0;34m()\u001b[0m\n",
            "\u001b[0;32mpandas/_libs/hashtable_class_helper.pxi\u001b[0m in \u001b[0;36mpandas._libs.hashtable.PyObjectHashTable.get_item\u001b[0;34m()\u001b[0m\n",
            "\u001b[0;31mKeyError\u001b[0m: 'COMMUNICATION_SKILLS_TOTAL'",
            "\nThe above exception was the direct cause of the following exception:\n",
            "\u001b[0;31mKeyError\u001b[0m                                  Traceback (most recent call last)",
            "\u001b[0;32m<ipython-input-130-0e903abc8f7d>\u001b[0m in \u001b[0;36m<cell line: 0>\u001b[0;34m()\u001b[0m\n\u001b[1;32m      1\u001b[0m \u001b[0;31m# Distribution plots for key features\u001b[0m\u001b[0;34m\u001b[0m\u001b[0;34m\u001b[0m\u001b[0m\n\u001b[1;32m      2\u001b[0m \u001b[0mplt\u001b[0m\u001b[0;34m.\u001b[0m\u001b[0mfigure\u001b[0m\u001b[0;34m(\u001b[0m\u001b[0mfigsize\u001b[0m\u001b[0;34m=\u001b[0m\u001b[0;34m(\u001b[0m\u001b[0;36m12\u001b[0m\u001b[0;34m,\u001b[0m \u001b[0;36m6\u001b[0m\u001b[0;34m)\u001b[0m\u001b[0;34m)\u001b[0m\u001b[0;34m\u001b[0m\u001b[0;34m\u001b[0m\u001b[0m\n\u001b[0;32m----> 3\u001b[0;31m \u001b[0msns\u001b[0m\u001b[0;34m.\u001b[0m\u001b[0mhistplot\u001b[0m\u001b[0;34m(\u001b[0m\u001b[0mdata_cleaned\u001b[0m\u001b[0;34m[\u001b[0m\u001b[0;34m'COMMUNICATION_SKILLS_TOTAL'\u001b[0m\u001b[0;34m]\u001b[0m\u001b[0;34m,\u001b[0m \u001b[0mkde\u001b[0m\u001b[0;34m=\u001b[0m\u001b[0;32mTrue\u001b[0m\u001b[0;34m,\u001b[0m \u001b[0mcolor\u001b[0m\u001b[0;34m=\u001b[0m\u001b[0;34m'blue'\u001b[0m\u001b[0;34m,\u001b[0m \u001b[0mbins\u001b[0m\u001b[0;34m=\u001b[0m\u001b[0;36m30\u001b[0m\u001b[0;34m)\u001b[0m\u001b[0;34m\u001b[0m\u001b[0;34m\u001b[0m\u001b[0m\n\u001b[0m\u001b[1;32m      4\u001b[0m \u001b[0mplt\u001b[0m\u001b[0;34m.\u001b[0m\u001b[0mtitle\u001b[0m\u001b[0;34m(\u001b[0m\u001b[0;34m\"Distribution of Communication Skills Total\"\u001b[0m\u001b[0;34m)\u001b[0m\u001b[0;34m\u001b[0m\u001b[0;34m\u001b[0m\u001b[0m\n\u001b[1;32m      5\u001b[0m \u001b[0mplt\u001b[0m\u001b[0;34m.\u001b[0m\u001b[0mshow\u001b[0m\u001b[0;34m(\u001b[0m\u001b[0;34m)\u001b[0m\u001b[0;34m\u001b[0m\u001b[0;34m\u001b[0m\u001b[0m\n",
            "\u001b[0;32m/usr/local/lib/python3.11/dist-packages/pandas/core/frame.py\u001b[0m in \u001b[0;36m__getitem__\u001b[0;34m(self, key)\u001b[0m\n\u001b[1;32m   4100\u001b[0m             \u001b[0;32mif\u001b[0m \u001b[0mself\u001b[0m\u001b[0;34m.\u001b[0m\u001b[0mcolumns\u001b[0m\u001b[0;34m.\u001b[0m\u001b[0mnlevels\u001b[0m \u001b[0;34m>\u001b[0m \u001b[0;36m1\u001b[0m\u001b[0;34m:\u001b[0m\u001b[0;34m\u001b[0m\u001b[0;34m\u001b[0m\u001b[0m\n\u001b[1;32m   4101\u001b[0m                 \u001b[0;32mreturn\u001b[0m \u001b[0mself\u001b[0m\u001b[0;34m.\u001b[0m\u001b[0m_getitem_multilevel\u001b[0m\u001b[0;34m(\u001b[0m\u001b[0mkey\u001b[0m\u001b[0;34m)\u001b[0m\u001b[0;34m\u001b[0m\u001b[0;34m\u001b[0m\u001b[0m\n\u001b[0;32m-> 4102\u001b[0;31m             \u001b[0mindexer\u001b[0m \u001b[0;34m=\u001b[0m \u001b[0mself\u001b[0m\u001b[0;34m.\u001b[0m\u001b[0mcolumns\u001b[0m\u001b[0;34m.\u001b[0m\u001b[0mget_loc\u001b[0m\u001b[0;34m(\u001b[0m\u001b[0mkey\u001b[0m\u001b[0;34m)\u001b[0m\u001b[0;34m\u001b[0m\u001b[0;34m\u001b[0m\u001b[0m\n\u001b[0m\u001b[1;32m   4103\u001b[0m             \u001b[0;32mif\u001b[0m \u001b[0mis_integer\u001b[0m\u001b[0;34m(\u001b[0m\u001b[0mindexer\u001b[0m\u001b[0;34m)\u001b[0m\u001b[0;34m:\u001b[0m\u001b[0;34m\u001b[0m\u001b[0;34m\u001b[0m\u001b[0m\n\u001b[1;32m   4104\u001b[0m                 \u001b[0mindexer\u001b[0m \u001b[0;34m=\u001b[0m \u001b[0;34m[\u001b[0m\u001b[0mindexer\u001b[0m\u001b[0;34m]\u001b[0m\u001b[0;34m\u001b[0m\u001b[0;34m\u001b[0m\u001b[0m\n",
            "\u001b[0;32m/usr/local/lib/python3.11/dist-packages/pandas/core/indexes/base.py\u001b[0m in \u001b[0;36mget_loc\u001b[0;34m(self, key)\u001b[0m\n\u001b[1;32m   3810\u001b[0m             ):\n\u001b[1;32m   3811\u001b[0m                 \u001b[0;32mraise\u001b[0m \u001b[0mInvalidIndexError\u001b[0m\u001b[0;34m(\u001b[0m\u001b[0mkey\u001b[0m\u001b[0;34m)\u001b[0m\u001b[0;34m\u001b[0m\u001b[0;34m\u001b[0m\u001b[0m\n\u001b[0;32m-> 3812\u001b[0;31m             \u001b[0;32mraise\u001b[0m \u001b[0mKeyError\u001b[0m\u001b[0;34m(\u001b[0m\u001b[0mkey\u001b[0m\u001b[0;34m)\u001b[0m \u001b[0;32mfrom\u001b[0m \u001b[0merr\u001b[0m\u001b[0;34m\u001b[0m\u001b[0;34m\u001b[0m\u001b[0m\n\u001b[0m\u001b[1;32m   3813\u001b[0m         \u001b[0;32mexcept\u001b[0m \u001b[0mTypeError\u001b[0m\u001b[0;34m:\u001b[0m\u001b[0;34m\u001b[0m\u001b[0;34m\u001b[0m\u001b[0m\n\u001b[1;32m   3814\u001b[0m             \u001b[0;31m# If we have a listlike key, _check_indexing_error will raise\u001b[0m\u001b[0;34m\u001b[0m\u001b[0;34m\u001b[0m\u001b[0m\n",
            "\u001b[0;31mKeyError\u001b[0m: 'COMMUNICATION_SKILLS_TOTAL'"
          ]
        },
        {
          "output_type": "display_data",
          "data": {
            "text/plain": [
              "<Figure size 1200x600 with 0 Axes>"
            ]
          },
          "metadata": {}
        }
      ]
    },
    {
      "cell_type": "code",
      "source": [
        "# Pairplot to visualize relationships between features\n",
        "sns.pairplot(data_cleaned[['COMMUNICATION_SKILLS_TOTAL', 'CONFIDENCE_ALERTNESS', 'MENTAL ALERTNESS', 'SELF-CONFIDENCE', 'CLASS']], hue=\"CLASS\")\n",
        "plt.show()\n"
      ],
      "metadata": {
        "colab": {
          "base_uri": "https://localhost:8080/",
          "height": 321
        },
        "id": "HMeQInBW7rpS",
        "outputId": "77ba12c9-21c9-4150-dcae-838ae1da4995"
      },
      "execution_count": 129,
      "outputs": [
        {
          "output_type": "error",
          "ename": "KeyError",
          "evalue": "\"['COMMUNICATION_SKILLS_TOTAL', 'CONFIDENCE_ALERTNESS', 'MENTAL ALERTNESS', 'SELF-CONFIDENCE'] not in index\"",
          "traceback": [
            "\u001b[0;31m---------------------------------------------------------------------------\u001b[0m",
            "\u001b[0;31mKeyError\u001b[0m                                  Traceback (most recent call last)",
            "\u001b[0;32m<ipython-input-129-f441670d3dbb>\u001b[0m in \u001b[0;36m<cell line: 0>\u001b[0;34m()\u001b[0m\n\u001b[1;32m      1\u001b[0m \u001b[0;31m# Pairplot to visualize relationships between features\u001b[0m\u001b[0;34m\u001b[0m\u001b[0;34m\u001b[0m\u001b[0m\n\u001b[0;32m----> 2\u001b[0;31m \u001b[0msns\u001b[0m\u001b[0;34m.\u001b[0m\u001b[0mpairplot\u001b[0m\u001b[0;34m(\u001b[0m\u001b[0mdata_cleaned\u001b[0m\u001b[0;34m[\u001b[0m\u001b[0;34m[\u001b[0m\u001b[0;34m'COMMUNICATION_SKILLS_TOTAL'\u001b[0m\u001b[0;34m,\u001b[0m \u001b[0;34m'CONFIDENCE_ALERTNESS'\u001b[0m\u001b[0;34m,\u001b[0m \u001b[0;34m'MENTAL ALERTNESS'\u001b[0m\u001b[0;34m,\u001b[0m \u001b[0;34m'SELF-CONFIDENCE'\u001b[0m\u001b[0;34m,\u001b[0m \u001b[0;34m'CLASS'\u001b[0m\u001b[0;34m]\u001b[0m\u001b[0;34m]\u001b[0m\u001b[0;34m,\u001b[0m \u001b[0mhue\u001b[0m\u001b[0;34m=\u001b[0m\u001b[0;34m\"CLASS\"\u001b[0m\u001b[0;34m)\u001b[0m\u001b[0;34m\u001b[0m\u001b[0;34m\u001b[0m\u001b[0m\n\u001b[0m\u001b[1;32m      3\u001b[0m \u001b[0mplt\u001b[0m\u001b[0;34m.\u001b[0m\u001b[0mshow\u001b[0m\u001b[0;34m(\u001b[0m\u001b[0;34m)\u001b[0m\u001b[0;34m\u001b[0m\u001b[0;34m\u001b[0m\u001b[0m\n",
            "\u001b[0;32m/usr/local/lib/python3.11/dist-packages/pandas/core/frame.py\u001b[0m in \u001b[0;36m__getitem__\u001b[0;34m(self, key)\u001b[0m\n\u001b[1;32m   4106\u001b[0m             \u001b[0;32mif\u001b[0m \u001b[0mis_iterator\u001b[0m\u001b[0;34m(\u001b[0m\u001b[0mkey\u001b[0m\u001b[0;34m)\u001b[0m\u001b[0;34m:\u001b[0m\u001b[0;34m\u001b[0m\u001b[0;34m\u001b[0m\u001b[0m\n\u001b[1;32m   4107\u001b[0m                 \u001b[0mkey\u001b[0m \u001b[0;34m=\u001b[0m \u001b[0mlist\u001b[0m\u001b[0;34m(\u001b[0m\u001b[0mkey\u001b[0m\u001b[0;34m)\u001b[0m\u001b[0;34m\u001b[0m\u001b[0;34m\u001b[0m\u001b[0m\n\u001b[0;32m-> 4108\u001b[0;31m             \u001b[0mindexer\u001b[0m \u001b[0;34m=\u001b[0m \u001b[0mself\u001b[0m\u001b[0;34m.\u001b[0m\u001b[0mcolumns\u001b[0m\u001b[0;34m.\u001b[0m\u001b[0m_get_indexer_strict\u001b[0m\u001b[0;34m(\u001b[0m\u001b[0mkey\u001b[0m\u001b[0;34m,\u001b[0m \u001b[0;34m\"columns\"\u001b[0m\u001b[0;34m)\u001b[0m\u001b[0;34m[\u001b[0m\u001b[0;36m1\u001b[0m\u001b[0;34m]\u001b[0m\u001b[0;34m\u001b[0m\u001b[0;34m\u001b[0m\u001b[0m\n\u001b[0m\u001b[1;32m   4109\u001b[0m \u001b[0;34m\u001b[0m\u001b[0m\n\u001b[1;32m   4110\u001b[0m         \u001b[0;31m# take() does not accept boolean indexers\u001b[0m\u001b[0;34m\u001b[0m\u001b[0;34m\u001b[0m\u001b[0m\n",
            "\u001b[0;32m/usr/local/lib/python3.11/dist-packages/pandas/core/indexes/base.py\u001b[0m in \u001b[0;36m_get_indexer_strict\u001b[0;34m(self, key, axis_name)\u001b[0m\n\u001b[1;32m   6198\u001b[0m             \u001b[0mkeyarr\u001b[0m\u001b[0;34m,\u001b[0m \u001b[0mindexer\u001b[0m\u001b[0;34m,\u001b[0m \u001b[0mnew_indexer\u001b[0m \u001b[0;34m=\u001b[0m \u001b[0mself\u001b[0m\u001b[0;34m.\u001b[0m\u001b[0m_reindex_non_unique\u001b[0m\u001b[0;34m(\u001b[0m\u001b[0mkeyarr\u001b[0m\u001b[0;34m)\u001b[0m\u001b[0;34m\u001b[0m\u001b[0;34m\u001b[0m\u001b[0m\n\u001b[1;32m   6199\u001b[0m \u001b[0;34m\u001b[0m\u001b[0m\n\u001b[0;32m-> 6200\u001b[0;31m         \u001b[0mself\u001b[0m\u001b[0;34m.\u001b[0m\u001b[0m_raise_if_missing\u001b[0m\u001b[0;34m(\u001b[0m\u001b[0mkeyarr\u001b[0m\u001b[0;34m,\u001b[0m \u001b[0mindexer\u001b[0m\u001b[0;34m,\u001b[0m \u001b[0maxis_name\u001b[0m\u001b[0;34m)\u001b[0m\u001b[0;34m\u001b[0m\u001b[0;34m\u001b[0m\u001b[0m\n\u001b[0m\u001b[1;32m   6201\u001b[0m \u001b[0;34m\u001b[0m\u001b[0m\n\u001b[1;32m   6202\u001b[0m         \u001b[0mkeyarr\u001b[0m \u001b[0;34m=\u001b[0m \u001b[0mself\u001b[0m\u001b[0;34m.\u001b[0m\u001b[0mtake\u001b[0m\u001b[0;34m(\u001b[0m\u001b[0mindexer\u001b[0m\u001b[0;34m)\u001b[0m\u001b[0;34m\u001b[0m\u001b[0;34m\u001b[0m\u001b[0m\n",
            "\u001b[0;32m/usr/local/lib/python3.11/dist-packages/pandas/core/indexes/base.py\u001b[0m in \u001b[0;36m_raise_if_missing\u001b[0;34m(self, key, indexer, axis_name)\u001b[0m\n\u001b[1;32m   6250\u001b[0m \u001b[0;34m\u001b[0m\u001b[0m\n\u001b[1;32m   6251\u001b[0m             \u001b[0mnot_found\u001b[0m \u001b[0;34m=\u001b[0m \u001b[0mlist\u001b[0m\u001b[0;34m(\u001b[0m\u001b[0mensure_index\u001b[0m\u001b[0;34m(\u001b[0m\u001b[0mkey\u001b[0m\u001b[0;34m)\u001b[0m\u001b[0;34m[\u001b[0m\u001b[0mmissing_mask\u001b[0m\u001b[0;34m.\u001b[0m\u001b[0mnonzero\u001b[0m\u001b[0;34m(\u001b[0m\u001b[0;34m)\u001b[0m\u001b[0;34m[\u001b[0m\u001b[0;36m0\u001b[0m\u001b[0;34m]\u001b[0m\u001b[0;34m]\u001b[0m\u001b[0;34m.\u001b[0m\u001b[0munique\u001b[0m\u001b[0;34m(\u001b[0m\u001b[0;34m)\u001b[0m\u001b[0;34m)\u001b[0m\u001b[0;34m\u001b[0m\u001b[0;34m\u001b[0m\u001b[0m\n\u001b[0;32m-> 6252\u001b[0;31m             \u001b[0;32mraise\u001b[0m \u001b[0mKeyError\u001b[0m\u001b[0;34m(\u001b[0m\u001b[0;34mf\"{not_found} not in index\"\u001b[0m\u001b[0;34m)\u001b[0m\u001b[0;34m\u001b[0m\u001b[0;34m\u001b[0m\u001b[0m\n\u001b[0m\u001b[1;32m   6253\u001b[0m \u001b[0;34m\u001b[0m\u001b[0m\n\u001b[1;32m   6254\u001b[0m     \u001b[0;34m@\u001b[0m\u001b[0moverload\u001b[0m\u001b[0;34m\u001b[0m\u001b[0;34m\u001b[0m\u001b[0m\n",
            "\u001b[0;31mKeyError\u001b[0m: \"['COMMUNICATION_SKILLS_TOTAL', 'CONFIDENCE_ALERTNESS', 'MENTAL ALERTNESS', 'SELF-CONFIDENCE'] not in index\""
          ]
        }
      ]
    },
    {
      "cell_type": "code",
      "source": [
        "# Check class distribution\n",
        "sns.countplot(x='CLASS', data=data_cleaned)\n",
        "plt.title(\"Class Distribution\")\n",
        "plt.show()\n"
      ],
      "metadata": {
        "id": "5l2JRhl_7uca"
      },
      "execution_count": null,
      "outputs": []
    },
    {
      "cell_type": "code",
      "source": [
        "# Correlation with the target variable\n",
        "correlation_with_target = data_cleaned.corr()['CLASS'].sort_values(ascending=False)\n",
        "sns.heatmap(correlation_with_target.to_frame(), annot=True, cmap='coolwarm', cbar=True)\n",
        "plt.title(\"Correlation with Target (CLASS)\")\n",
        "plt.show()\n"
      ],
      "metadata": {
        "id": "ZHJ6cke371pb"
      },
      "execution_count": null,
      "outputs": []
    },
    {
      "cell_type": "markdown",
      "source": [
        "##Phase 4 – Model Building\n"
      ],
      "metadata": {
        "id": "nrGvxV1vBP0U"
      }
    },
    {
      "cell_type": "code",
      "source": [
        "from sklearn.model_selection import train_test_split\n",
        "from sklearn.tree import DecisionTreeClassifier\n",
        "from sklearn.ensemble import RandomForestClassifier\n",
        "from sklearn.linear_model import LogisticRegression\n",
        "from sklearn.metrics import accuracy_score, classification_report, confusion_matrix\n",
        "\n",
        "# Split the data into features (X) and target (y)\n",
        "X = data_cleaned.drop(columns=['CLASS'])\n",
        "y = data_cleaned['CLASS']\n",
        "\n",
        "# Split the data into training and testing sets (80% train, 20% test)\n",
        "X_train, X_test, y_train, y_test = train_test_split(X, y, test_size=0.2, random_state=42)\n",
        "\n",
        "# 1. Decision Tree Classifier\n",
        "dt_model = DecisionTreeClassifier(random_state=42)\n",
        "dt_model.fit(X_train, y_train)\n",
        "dt_predictions = dt_model.predict(X_test)\n",
        "dt_accuracy = accuracy_score(y_test, dt_predictions)\n",
        "\n",
        "# 2. Random Forest Classifier\n",
        "rf_model = RandomForestClassifier(random_state=42)\n",
        "rf_model.fit(X_train, y_train)\n",
        "rf_predictions = rf_model.predict(X_test)\n",
        "rf_accuracy = accuracy_score(y_test, rf_predictions)\n",
        "\n",
        "# 3. Logistic Regression\n",
        "lr_model = LogisticRegression(max_iter=1000, random_state=42)\n",
        "lr_model.fit(X_train, y_train)\n",
        "lr_predictions = lr_model.predict(X_test)\n",
        "lr_accuracy = accuracy_score(y_test, lr_predictions)\n",
        "\n",
        "\n",
        "\n",
        "# Print the results\n",
        "print(f\"Decision Tree Accuracy: {dt_accuracy:.4f}\")\n",
        "print(f\"Random Forest Accuracy: {rf_accuracy:.4f}\")\n",
        "print(f\"Logistic Regression Accuracy: {lr_accuracy:.4f}\")\n",
        "\n",
        "# Print classification reports for further evaluation\n",
        "print(\"\\nDecision Tree Classification Report:\")\n",
        "print(classification_report(y_test, dt_predictions))\n",
        "\n",
        "print(\"\\nRandom Forest Classification Report:\")\n",
        "print(classification_report(y_test, rf_predictions))\n",
        "\n",
        "print(\"\\nLogistic Regression Classification Report:\")\n",
        "print(classification_report(y_test, lr_predictions))\n",
        "\n",
        "# Confusion Matrices\n",
        "print(\"\\nDecision Tree Confusion Matrix:\")\n",
        "print(confusion_matrix(y_test, dt_predictions))\n",
        "\n",
        "print(\"\\nRandom Forest Confusion Matrix:\")\n",
        "print(confusion_matrix(y_test, rf_predictions))\n",
        "\n",
        "print(\"\\nLogistic Regression Confusion Matrix:\")\n",
        "print(confusion_matrix(y_test, lr_predictions))\n"
      ],
      "metadata": {
        "id": "-AIfL1jOBTfF"
      },
      "execution_count": null,
      "outputs": []
    },
    {
      "cell_type": "code",
      "source": [
        "import joblib\n",
        "\n",
        "# Save the trained RandomForest model\n",
        "joblib.dump(rf_model, 'random_forest_model.pkl')\n",
        "\n",
        "# Save the scaler\n",
        "joblib.dump(scaler, 'scaler.pkl')\n",
        "\n",
        "# Save the label encoder\n",
        "joblib.dump(le, 'label_encoder.pkl')"
      ],
      "metadata": {
        "id": "016b3WjIXTri"
      },
      "execution_count": null,
      "outputs": []
    },
    {
      "cell_type": "markdown",
      "source": [
        "##Adding Evaluation Metrics in a Table"
      ],
      "metadata": {
        "id": "YZl73jqQCTY_"
      }
    },
    {
      "cell_type": "code",
      "source": [
        "import pandas as pd\n",
        "\n",
        "# Create a DataFrame with accuracy, precision, recall, F1 score for each model\n",
        "results = {\n",
        "    'Model': ['Decision Tree', 'Random Forest', 'Logistic Regression'],\n",
        "    'Accuracy': [dt_accuracy, rf_accuracy, lr_accuracy],\n",
        "    'Precision': [classification_report(y_test, dt_predictions, output_dict=True)['1']['precision'],\n",
        "                  classification_report(y_test, rf_predictions, output_dict=True)['1']['precision'],\n",
        "                  classification_report(y_test, lr_predictions, output_dict=True)['1']['precision']],\n",
        "    'Recall': [classification_report(y_test, dt_predictions, output_dict=True)['1']['recall'],\n",
        "               classification_report(y_test, rf_predictions, output_dict=True)['1']['recall'],\n",
        "               classification_report(y_test, lr_predictions, output_dict=True)['1']['recall']],\n",
        "    'F1 Score': [classification_report(y_test, dt_predictions, output_dict=True)['1']['f1-score'],\n",
        "                 classification_report(y_test, rf_predictions, output_dict=True)['1']['f1-score'],\n",
        "                 classification_report(y_test, lr_predictions, output_dict=True)['1']['f1-score']]\n",
        "}\n",
        "\n",
        "# Convert the results into a DataFrame\n",
        "results_df = pd.DataFrame(results)\n",
        "print(results_df)\n"
      ],
      "metadata": {
        "id": "KMKxjs7oCUYg"
      },
      "execution_count": null,
      "outputs": []
    },
    {
      "cell_type": "markdown",
      "source": [
        "##Phase 5 – Evaluation and Visualization"
      ],
      "metadata": {
        "id": "ZA4OlCqcDG0g"
      }
    },
    {
      "cell_type": "markdown",
      "source": [
        "##Cross-Validation"
      ],
      "metadata": {
        "id": "OP1xz7IODtGU"
      }
    },
    {
      "cell_type": "code",
      "source": [
        "from sklearn.model_selection import cross_val_score\n",
        "\n",
        "# Decision Tree Cross-Validation\n",
        "dt_cv_scores = cross_val_score(dt_model, X, y, cv=5, scoring='accuracy')\n",
        "dt_cv_mean = dt_cv_scores.mean()\n",
        "\n",
        "# Random Forest Cross-Validation\n",
        "rf_cv_scores = cross_val_score(rf_model, X, y, cv=5, scoring='accuracy')\n",
        "rf_cv_mean = rf_cv_scores.mean()\n",
        "\n",
        "# Logistic Regression Cross-Validation\n",
        "lr_cv_scores = cross_val_score(lr_model, X, y, cv=5, scoring='accuracy')\n",
        "lr_cv_mean = lr_cv_scores.mean()\n",
        "\n",
        "# Display results\n",
        "print(f\"Decision Tree CV Mean Accuracy: {dt_cv_mean:.4f}\")\n",
        "print(f\"Random Forest CV Mean Accuracy: {rf_cv_mean:.4f}\")\n",
        "print(f\"Logistic Regression CV Mean Accuracy: {lr_cv_mean:.4f}\")\n"
      ],
      "metadata": {
        "id": "tlnbXU4aDe1p"
      },
      "execution_count": null,
      "outputs": []
    },
    {
      "cell_type": "markdown",
      "source": [
        "##Confusion Matrix Visualization:"
      ],
      "metadata": {
        "id": "S39vF4HkBzLI"
      }
    },
    {
      "cell_type": "code",
      "source": [
        "# Confusion Matrix for Decision Tree\n",
        "dt_cm = confusion_matrix(y_test, dt_predictions)\n",
        "plt.figure(figsize=(6, 5))\n",
        "sns.heatmap(dt_cm, annot=True, fmt='d', cmap='Blues', cbar=False, xticklabels=['Predicted 0', 'Predicted 1'], yticklabels=['True 0', 'True 1'])\n",
        "plt.title(\"Decision Tree Confusion Matrix\")\n",
        "plt.show()"
      ],
      "metadata": {
        "id": "9NJ8qpuuBSxz"
      },
      "execution_count": null,
      "outputs": []
    },
    {
      "cell_type": "code",
      "source": [
        "# Confusion Matrix for Random Forest\n",
        "rf_cm = confusion_matrix(y_test, rf_predictions)\n",
        "plt.figure(figsize=(6, 5))\n",
        "sns.heatmap(rf_cm, annot=True, fmt='d', cmap='Blues', cbar=False, xticklabels=['Predicted 0', 'Predicted 1'], yticklabels=['True 0', 'True 1'])\n",
        "plt.title(\"Random Forest Confusion Matrix\")\n",
        "plt.show()\n"
      ],
      "metadata": {
        "id": "fjjXMg37CAuw"
      },
      "execution_count": null,
      "outputs": []
    },
    {
      "cell_type": "code",
      "source": [
        "# Confusion Matrix for Logistic Regression\n",
        "lr_cm = confusion_matrix(y_test, lr_predictions)\n",
        "plt.figure(figsize=(6, 5))\n",
        "sns.heatmap(lr_cm, annot=True, fmt='d', cmap='Blues', cbar=False, xticklabels=['Predicted 0', 'Predicted 1'], yticklabels=['True 0', 'True 1'])\n",
        "plt.title(\"Logistic Regression Confusion Matrix\")\n",
        "plt.show()"
      ],
      "metadata": {
        "id": "nOiIrg6RCFFA"
      },
      "execution_count": null,
      "outputs": []
    },
    {
      "cell_type": "markdown",
      "source": [
        "##Plotting Feature Importance (for Tree-Based Models)"
      ],
      "metadata": {
        "id": "_ZqjJuMdChmT"
      }
    },
    {
      "cell_type": "code",
      "source": [
        "# Feature Importance for Random Forest\n",
        "feature_importance_rf = rf_model.feature_importances_\n",
        "sorted_idx_rf = feature_importance_rf.argsort()\n",
        "\n",
        "plt.figure(figsize=(8, 6))\n",
        "plt.barh(X.columns[sorted_idx_rf], feature_importance_rf[sorted_idx_rf])\n",
        "plt.title(\"Feature Importance (Random Forest)\")\n",
        "plt.xlabel(\"Importance\")\n",
        "plt.show()\n"
      ],
      "metadata": {
        "id": "uLYirHyiCkrw"
      },
      "execution_count": null,
      "outputs": []
    },
    {
      "cell_type": "code",
      "source": [
        "# Feature Importance for Decision Tree\n",
        "feature_importance_dt = dt_model.feature_importances_\n",
        "sorted_idx_dt = feature_importance_dt.argsort()\n",
        "\n",
        "plt.figure(figsize=(8, 6))\n",
        "plt.barh(X.columns[sorted_idx_dt], feature_importance_dt[sorted_idx_dt])\n",
        "plt.title(\"Feature Importance (Decision Tree)\")\n",
        "plt.xlabel(\"Importance\")\n",
        "plt.show()"
      ],
      "metadata": {
        "id": "NR18r4MCCqeZ"
      },
      "execution_count": null,
      "outputs": []
    },
    {
      "cell_type": "markdown",
      "source": [
        "##Model Comparison Visualization"
      ],
      "metadata": {
        "id": "aK9qbqioCxmf"
      }
    },
    {
      "cell_type": "code",
      "source": [
        "# Model Comparison (Accuracy Bar Chart)\n",
        "models = ['Decision Tree', 'Random Forest', 'Logistic Regression']\n",
        "accuracies = [dt_accuracy, rf_accuracy, lr_accuracy]\n",
        "\n",
        "plt.figure(figsize=(8, 6))\n",
        "plt.bar(models, accuracies, color=['blue', 'green', 'orange'])\n",
        "plt.title(\"Model Accuracy Comparison\")\n",
        "plt.xlabel(\"Model\")\n",
        "plt.ylabel(\"Accuracy\")\n",
        "plt.ylim([0, 1])\n",
        "plt.show()\n"
      ],
      "metadata": {
        "id": "XEc6SfoyCwxU"
      },
      "execution_count": null,
      "outputs": []
    },
    {
      "cell_type": "code",
      "source": [
        "# For Decision Tree: Get predicted probabilities\n",
        "dt_predictions_prob = dt_model.predict_proba(X_test)[:, 1]  # Probabilities for class 1\n",
        "\n",
        "# For Random Forest: Get predicted probabilities\n",
        "rf_predictions_prob = rf_model.predict_proba(X_test)[:, 1]  # Probabilities for class 1\n",
        "\n",
        "# For Logistic Regression: Get predicted probabilities\n",
        "lr_predictions_prob = lr_model.predict_proba(X_test)[:, 1]  # Probabilities for class 1\n",
        "\n",
        "\n",
        "# ROC Curve for Decision Tree\n",
        "dt_fpr, dt_tpr, _ = roc_curve(y_test, dt_predictions_prob)\n",
        "dt_auc = auc(dt_fpr, dt_tpr)\n",
        "\n",
        "plt.figure(figsize=(8, 6))\n",
        "plt.plot(dt_fpr, dt_tpr, label=f'Decision Tree (AUC = {dt_auc:.2f})')\n",
        "plt.plot([0, 1], [0, 1], color='gray', linestyle='--')\n",
        "plt.title(\"ROC Curve - Decision Tree\")\n",
        "plt.xlabel(\"False Positive Rate\")\n",
        "plt.ylabel(\"True Positive Rate\")\n",
        "plt.legend(loc=\"lower right\")\n",
        "plt.show()"
      ],
      "metadata": {
        "id": "vdaJq9SHEo1-"
      },
      "execution_count": null,
      "outputs": []
    },
    {
      "cell_type": "code",
      "source": [
        "# ROC Curve for Random Forest\n",
        "rf_fpr, rf_tpr, _ = roc_curve(y_test, rf_predictions_prob)\n",
        "rf_auc = auc(rf_fpr, rf_tpr)\n",
        "\n",
        "plt.figure(figsize=(8, 6))\n",
        "plt.plot(rf_fpr, rf_tpr, label=f'Random Forest (AUC = {rf_auc:.2f})')\n",
        "plt.plot([0, 1], [0, 1], color='gray', linestyle='--')\n",
        "plt.title(\"ROC Curve - Random Forest\")\n",
        "plt.xlabel(\"False Positive Rate\")\n",
        "plt.ylabel(\"True Positive Rate\")\n",
        "plt.legend(loc=\"lower right\")\n",
        "plt.show()"
      ],
      "metadata": {
        "id": "39OY43jWE4bk"
      },
      "execution_count": null,
      "outputs": []
    },
    {
      "cell_type": "code",
      "source": [
        "# ROC Curve for Logistic Regression\n",
        "lr_fpr, lr_tpr, _ = roc_curve(y_test, lr_predictions_prob)\n",
        "lr_auc = auc(lr_fpr, lr_tpr)\n",
        "\n",
        "plt.figure(figsize=(8, 6))\n",
        "plt.plot(lr_fpr, lr_tpr, label=f'Logistic Regression (AUC = {lr_auc:.2f})')\n",
        "plt.plot([0, 1], [0, 1], color='gray', linestyle='--')\n",
        "plt.title(\"ROC Curve - Logistic Regression\")\n",
        "plt.xlabel(\"False Positive Rate\")\n",
        "plt.ylabel(\"True Positive Rate\")\n",
        "plt.legend(loc=\"lower right\")\n",
        "plt.show()\n"
      ],
      "metadata": {
        "id": "8_wEoo_wE4vF"
      },
      "execution_count": null,
      "outputs": []
    },
    {
      "cell_type": "code",
      "source": [
        "# Step 1: Select the two features for model training\n",
        "X_2D_train = data_cleaned[['COMMUNICATION_SKILLS_TOTAL', 'CONFIDENCE_ALERTNESS']]\n",
        "y_2D_train = data_cleaned['CLASS']\n",
        "\n",
        "# Step 2: Train the Decision Tree and Random Forest models using only these two features\n",
        "from sklearn.tree import DecisionTreeClassifier\n",
        "from sklearn.ensemble import RandomForestClassifier\n",
        "\n",
        "# Initialize the models\n",
        "dt_model_2D = DecisionTreeClassifier(random_state=42)\n",
        "rf_model_2D = RandomForestClassifier(random_state=42)\n",
        "\n",
        "# Train the models\n",
        "dt_model_2D.fit(X_2D_train, y_2D_train)\n",
        "rf_model_2D.fit(X_2D_train, y_2D_train)\n",
        "\n",
        "# Step 3: Plot decision boundaries for both models using the plot_decision_boundary function\n",
        "\n",
        "# Plot decision boundary for Decision Tree\n",
        "plot_decision_boundary(dt_model_2D, X_2D_train, y_2D_train, \"Decision Tree Decision Boundary\")\n",
        "\n",
        "# Plot decision boundary for Random Forest\n",
        "plot_decision_boundary(rf_model_2D, X_2D_train, y_2D_train, \"Random Forest Decision Boundary\")\n"
      ],
      "metadata": {
        "id": "k_PPNdysFEQX"
      },
      "execution_count": null,
      "outputs": []
    },
    {
      "cell_type": "markdown",
      "source": [
        "##Phase 6 – Prototype Development"
      ],
      "metadata": {
        "id": "zhitUmhtHMAp"
      }
    },
    {
      "cell_type": "markdown",
      "source": [
        "##Install Streamlit"
      ],
      "metadata": {
        "id": "y_bFEpEnHOkv"
      }
    },
    {
      "cell_type": "code",
      "source": [
        "!pip install streamlit\n",
        "print(\"\\nstreamlit installed successfully\")"
      ],
      "metadata": {
        "id": "8O5zHxZHHRx5"
      },
      "execution_count": null,
      "outputs": []
    },
    {
      "cell_type": "code",
      "source": [
        "import joblib\n",
        "\n",
        "# Load the trained model, scaler, and label encoder\n",
        "rf_model = joblib.load('random_forest_model.pkl')\n",
        "scaler = joblib.load('scaler.pkl')\n",
        "le = joblib.load('label_encoder.pkl')\n"
      ],
      "metadata": {
        "id": "clHx0DPOXxrH"
      },
      "execution_count": null,
      "outputs": []
    },
    {
      "cell_type": "code",
      "source": [
        "import streamlit as st\n",
        "import pandas as pd\n",
        "import numpy as np\n",
        "import joblib\n",
        "\n",
        "# Load pre-trained model and scalers\n",
        "rf_model = joblib.load('random_forest_model.pkl')\n",
        "scaler = joblib.load('scaler.pkl')\n",
        "le = joblib.load('label_encoder.pkl')\n",
        "\n",
        "# Streamlit App Layout\n",
        "st.title(\"Student Employability Prediction\")\n",
        "st.write(\"This application predicts employability class based on communication skills and confidence.\")\n",
        "\n",
        "# Input fields for the features (two features used for this example)\n",
        "communication_skills = st.slider(\"Communication Skills Total\", min_value=0.0, max_value=1.0, value=0.5, step=0.01)\n",
        "confidence_alertness = st.slider(\"Confidence and Alertness\", min_value=0.0, max_value=1.0, value=0.5, step=0.01)\n",
        "\n",
        "# Prediction button\n",
        "if st.button('Predict'):\n",
        "    # Create a DataFrame from the user input\n",
        "    user_data = pd.DataFrame([[communication_skills, confidence_alertness]], columns=['COMMUNICATION_SKILLS_TOTAL', 'CONFIDENCE_ALERTNESS'])\n",
        "\n",
        "    # Scale the data (ensure you use the same scaler as when you trained the model)\n",
        "    user_data_scaled = scaler.transform(user_data)\n",
        "\n",
        "    # Make prediction with your trained model\n",
        "    prediction = rf_model.predict(user_data_scaled)\n",
        "\n",
        "    # Decode the prediction back to original label if necessary\n",
        "    prediction_class = le.inverse_transform(prediction)\n",
        "\n",
        "    # Display the result\n",
        "    st.write(f\"Predicted Class: {prediction_class[0]}\")\n"
      ],
      "metadata": {
        "id": "t-dcW--hHZYx"
      },
      "execution_count": null,
      "outputs": []
    }
  ]
}